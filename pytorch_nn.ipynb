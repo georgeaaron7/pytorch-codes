{
  "nbformat": 4,
  "nbformat_minor": 0,
  "metadata": {
    "colab": {
      "provenance": [],
      "authorship_tag": "ABX9TyOBp593wZf07Qw2RS0Jj1PC",
      "include_colab_link": true
    },
    "kernelspec": {
      "name": "python3",
      "display_name": "Python 3"
    },
    "language_info": {
      "name": "python"
    }
  },
  "cells": [
    {
      "cell_type": "markdown",
      "metadata": {
        "id": "view-in-github",
        "colab_type": "text"
      },
      "source": [
        "<a href=\"https://colab.research.google.com/github/georgeaaron7/pytorch-codes/blob/main/pytorch_nn.ipynb\" target=\"_parent\"><img src=\"https://colab.research.google.com/assets/colab-badge.svg\" alt=\"Open In Colab\"/></a>"
      ]
    },
    {
      "cell_type": "code",
      "execution_count": 2,
      "metadata": {
        "id": "Vvc5Mx3i7oAH"
      },
      "outputs": [],
      "source": [
        "import torch #entire\n",
        "import torch.nn as nn #all the nn modules, loss fns\n",
        "import torch.optim as optim #all the optimization algos\n",
        "import torch.nn.functional as F #all the functions that don't have any functions, relu, tanh, etc\n",
        "from torch.utils.data import DataLoader #easier dataset management\n",
        "import torchvision.datasets as datasets #pytorch std datasets\n",
        "import torchvision.transforms as transforms #transformations that we can perform on our datasets"
      ]
    },
    {
      "cell_type": "code",
      "source": [
        "class NN(nn.Module):\n",
        "  def __init__(self, input_size, num_classes): #input size = 28x28 mnist dataset\n",
        "    super(NN, self).__init__() #super calls the initialization method of the parent class\n",
        "    self.fc1 = nn.Linear(input_size, 50) #50 layers as output\n",
        "    self.fc2 = nn.Linear(50, num_classes) #50 layers input from previous and output as 1-10 classes\n",
        "\n",
        "  def forward(self, x):\n",
        "    x = F.relu(self.fc1(x))\n",
        "    x = self.fc2(x)\n",
        "    return x"
      ],
      "metadata": {
        "id": "g6AVTTDI8uoh"
      },
      "execution_count": 3,
      "outputs": []
    },
    {
      "cell_type": "code",
      "source": [
        "device = torch.device('cuda' if torch.cuda.is_available() else 'cpu')\n",
        "\n",
        "#hyperparams\n",
        "input_size = 784\n",
        "num_classes = 10\n",
        "learning_rate = 0.005\n",
        "batch_size = 64\n",
        "num_epochs = 5"
      ],
      "metadata": {
        "id": "ITqAmb9tA25n"
      },
      "execution_count": 17,
      "outputs": []
    },
    {
      "cell_type": "code",
      "source": [
        "# training dataset and training data loader\n",
        "train_dataset = datasets.MNIST(root='sample_data/', train=True, transform=transforms.ToTensor(), download=True)\n",
        "train_loader = DataLoader(dataset=train_dataset, batch_size=batch_size, shuffle=True)\n",
        "\n",
        "# test dataset and test data loader\n",
        "test_dataset = datasets.MNIST(root='sample_data/', train=False, transform=transforms.ToTensor(), download=True)\n",
        "test_loader = DataLoader(dataset=test_dataset, batch_size=batch_size, shuffle=True)"
      ],
      "metadata": {
        "id": "IhXV1YBkBIZV"
      },
      "execution_count": 18,
      "outputs": []
    },
    {
      "cell_type": "code",
      "source": [
        "model = NN(input_size=input_size, num_classes=num_classes).to(device) #initializing the actual model itself"
      ],
      "metadata": {
        "id": "4hrhQHYcCmaJ"
      },
      "execution_count": 19,
      "outputs": []
    },
    {
      "cell_type": "code",
      "source": [
        "criterion = nn.CrossEntropyLoss() #loss fn used for multi-class classification, -ln(x)\n",
        "optimizer = optim.Adam(model.parameters(), lr = learning_rate)"
      ],
      "metadata": {
        "id": "djfu9NX8DAA2"
      },
      "execution_count": 20,
      "outputs": []
    },
    {
      "cell_type": "code",
      "source": [
        "for epoch in range(num_epochs): #each complete pass through the dataset is called an epoch\n",
        "  for batch_idx, (data, targets) in enumerate(train_loader): #provides batches of data\n",
        "    data = data.to(device=device) # contains the input data for the current batch\n",
        "    targets = targets.to(device=device) #contains correct labels for input data in current batch\n",
        "    data = data.reshape(data.shape[0], -1) #flattens in input\n",
        "\n",
        "    # forward\n",
        "    scores = model(data)\n",
        "    loss = criterion(scores,targets)\n",
        "\n",
        "    # backward\n",
        "    optimizer.zero_grad()\n",
        "    loss.backward()\n",
        "\n",
        "    # gradient descent\n",
        "    optimizer.step()"
      ],
      "metadata": {
        "id": "PbIfoiiVDaAU"
      },
      "execution_count": 21,
      "outputs": []
    },
    {
      "cell_type": "code",
      "source": [
        "def check_accuracy(loader, model):\n",
        "  num_correct = 0\n",
        "  num_samples = 0\n",
        "  model.eval()\n",
        "\n",
        "  with torch.no_grad():\n",
        "    for x,y in loader:\n",
        "      x = x.to(device=device)\n",
        "      y = y.to(device=device)\n",
        "      x = x.reshape(x.shape[0], -1)\n",
        "\n",
        "      scores = model(x)\n",
        "      _, predictions = scores.max(1)\n",
        "      num_correct += (predictions == y).sum()\n",
        "      num_samples += predictions.size(0)\n",
        "\n",
        "    print(f'Got {num_correct} / {num_samples} with accuracy {float(num_correct)/float(num_samples)*100:.2f}')\n",
        "  model.train()"
      ],
      "metadata": {
        "id": "zjtdtiQ0I8Qi"
      },
      "execution_count": 22,
      "outputs": []
    },
    {
      "cell_type": "code",
      "source": [
        "check_accuracy(train_loader, model)\n",
        "check_accuracy(test_loader, model)"
      ],
      "metadata": {
        "colab": {
          "base_uri": "https://localhost:8080/"
        },
        "id": "olPORKvwKPDi",
        "outputId": "f3205034-9cee-416d-f9d5-fcc01789454e"
      },
      "execution_count": 23,
      "outputs": [
        {
          "output_type": "stream",
          "name": "stdout",
          "text": [
            "Got 59004 / 60000 with accuracy 98.34\n",
            "Got 9713 / 10000 with accuracy 97.13\n"
          ]
        }
      ]
    }
  ]
}